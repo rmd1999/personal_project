{
 "cells": [
  {
   "cell_type": "markdown",
   "metadata": {},
   "source": [
    "# Spam Filtering\n",
    "\n",
    "The aim of this kernel is to filter spam messages\n",
    "\n",
    "**!! NOTE !!**  \n",
    "*this kernel is only for documentation, i coded this from scratch in my Spyder IDE then move it here after it's done*"
   ]
  },
  {
   "cell_type": "markdown",
   "metadata": {},
   "source": [
    "### Import Libraries\n",
    "\n",
    "I will be utilizing nltk to help me for data cleaning which the process is including word tokenizing, lemmatizing, and removing stopwords. \n",
    "nltk is a library that specialized in natural language processing. It's easy to use, pretty complete, has many options, easy to use for beginner who learns about nlp."
   ]
  },
  {
   "cell_type": "code",
   "execution_count": 1,
   "metadata": {},
   "outputs": [],
   "source": [
    "import pandas as pd\n",
    "import numpy as np\n",
    "import matplotlib.pyplot as plt\n",
    "import seaborn as sns\n",
    "sns.set()\n",
    "from nltk.corpus import stopwords\n",
    "from nltk.tokenize import word_tokenize\n",
    "from nltk.stem import WordNetLemmatizer\n",
    "from wordcloud import WordCloud\n",
    "import string\n",
    "from sklearn.model_selection import train_test_split, cross_validate\n",
    "from sklearn.metrics import make_scorer, accuracy_score, precision_score, recall_score, f1_score,confusion_matrix\n",
    "from sklearn import svm, naive_bayes\n",
    "from sklearn.feature_extraction.text import TfidfVectorizer"
   ]
  },
  {
   "cell_type": "markdown",
   "metadata": {},
   "source": [
    "### Read Data\n",
    "\n",
    "The data is in extension of .tsv which is a document separated by tab. I will create the Data Frame from it, it could be done by read_csv with adding parameter sep,names and header. The separator will be \\t which means tab, the column names will be label and text, and the header is none because the document does not have any header"
   ]
  },
  {
   "cell_type": "code",
   "execution_count": 2,
   "metadata": {},
   "outputs": [],
   "source": [
    "data = pd.read_csv(r\"D:/python projects/read_files/SMSSpamCollection.tsv\",\n",
    "                    sep='\\t',names=['label','text'], header=None)"
   ]
  },
  {
   "cell_type": "markdown",
   "metadata": {},
   "source": [
    "### Exploraroty Data Analysis"
   ]
  },
  {
   "cell_type": "markdown",
   "metadata": {},
   "source": [
    "Checking null, data shape, data type"
   ]
  },
  {
   "cell_type": "code",
   "execution_count": 3,
   "metadata": {},
   "outputs": [
    {
     "data": {
      "text/html": [
       "<div>\n",
       "<style scoped>\n",
       "    .dataframe tbody tr th:only-of-type {\n",
       "        vertical-align: middle;\n",
       "    }\n",
       "\n",
       "    .dataframe tbody tr th {\n",
       "        vertical-align: top;\n",
       "    }\n",
       "\n",
       "    .dataframe thead th {\n",
       "        text-align: right;\n",
       "    }\n",
       "</style>\n",
       "<table border=\"1\" class=\"dataframe\">\n",
       "  <thead>\n",
       "    <tr style=\"text-align: right;\">\n",
       "      <th></th>\n",
       "      <th>label</th>\n",
       "      <th>text</th>\n",
       "    </tr>\n",
       "  </thead>\n",
       "  <tbody>\n",
       "    <tr>\n",
       "      <th>0</th>\n",
       "      <td>ham</td>\n",
       "      <td>I've been searching for the right words to tha...</td>\n",
       "    </tr>\n",
       "    <tr>\n",
       "      <th>1</th>\n",
       "      <td>spam</td>\n",
       "      <td>Free entry in 2 a wkly comp to win FA Cup fina...</td>\n",
       "    </tr>\n",
       "    <tr>\n",
       "      <th>2</th>\n",
       "      <td>ham</td>\n",
       "      <td>Nah I don't think he goes to usf, he lives aro...</td>\n",
       "    </tr>\n",
       "    <tr>\n",
       "      <th>3</th>\n",
       "      <td>ham</td>\n",
       "      <td>Even my brother is not like to speak with me. ...</td>\n",
       "    </tr>\n",
       "    <tr>\n",
       "      <th>4</th>\n",
       "      <td>ham</td>\n",
       "      <td>I HAVE A DATE ON SUNDAY WITH WILL!!</td>\n",
       "    </tr>\n",
       "  </tbody>\n",
       "</table>\n",
       "</div>"
      ],
      "text/plain": [
       "  label                                               text\n",
       "0   ham  I've been searching for the right words to tha...\n",
       "1  spam  Free entry in 2 a wkly comp to win FA Cup fina...\n",
       "2   ham  Nah I don't think he goes to usf, he lives aro...\n",
       "3   ham  Even my brother is not like to speak with me. ...\n",
       "4   ham                I HAVE A DATE ON SUNDAY WITH WILL!!"
      ]
     },
     "execution_count": 3,
     "metadata": {},
     "output_type": "execute_result"
    }
   ],
   "source": [
    "data.head(5)"
   ]
  },
  {
   "cell_type": "code",
   "execution_count": 4,
   "metadata": {},
   "outputs": [
    {
     "data": {
      "text/plain": [
       "label    0\n",
       "text     0\n",
       "dtype: int64"
      ]
     },
     "execution_count": 4,
     "metadata": {},
     "output_type": "execute_result"
    }
   ],
   "source": [
    "data.isnull().sum()"
   ]
  },
  {
   "cell_type": "code",
   "execution_count": 5,
   "metadata": {},
   "outputs": [
    {
     "data": {
      "text/plain": [
       "(5568, 2)"
      ]
     },
     "execution_count": 5,
     "metadata": {},
     "output_type": "execute_result"
    }
   ],
   "source": [
    "data.shape"
   ]
  },
  {
   "cell_type": "code",
   "execution_count": 6,
   "metadata": {},
   "outputs": [
    {
     "name": "stdout",
     "output_type": "stream",
     "text": [
      "<class 'pandas.core.frame.DataFrame'>\n",
      "RangeIndex: 5568 entries, 0 to 5567\n",
      "Data columns (total 2 columns):\n",
      "label    5568 non-null object\n",
      "text     5568 non-null object\n",
      "dtypes: object(2)\n",
      "memory usage: 87.1+ KB\n"
     ]
    }
   ],
   "source": [
    "data.info()"
   ]
  },
  {
   "cell_type": "code",
   "execution_count": 7,
   "metadata": {},
   "outputs": [
    {
     "data": {
      "text/html": [
       "<div>\n",
       "<style scoped>\n",
       "    .dataframe tbody tr th:only-of-type {\n",
       "        vertical-align: middle;\n",
       "    }\n",
       "\n",
       "    .dataframe tbody tr th {\n",
       "        vertical-align: top;\n",
       "    }\n",
       "\n",
       "    .dataframe thead th {\n",
       "        text-align: right;\n",
       "    }\n",
       "</style>\n",
       "<table border=\"1\" class=\"dataframe\">\n",
       "  <thead>\n",
       "    <tr style=\"text-align: right;\">\n",
       "      <th></th>\n",
       "      <th>label</th>\n",
       "      <th>text</th>\n",
       "    </tr>\n",
       "  </thead>\n",
       "  <tbody>\n",
       "    <tr>\n",
       "      <th>count</th>\n",
       "      <td>5568</td>\n",
       "      <td>5568</td>\n",
       "    </tr>\n",
       "    <tr>\n",
       "      <th>unique</th>\n",
       "      <td>2</td>\n",
       "      <td>5165</td>\n",
       "    </tr>\n",
       "    <tr>\n",
       "      <th>top</th>\n",
       "      <td>ham</td>\n",
       "      <td>Sorry, I'll call later</td>\n",
       "    </tr>\n",
       "    <tr>\n",
       "      <th>freq</th>\n",
       "      <td>4822</td>\n",
       "      <td>30</td>\n",
       "    </tr>\n",
       "  </tbody>\n",
       "</table>\n",
       "</div>"
      ],
      "text/plain": [
       "       label                    text\n",
       "count   5568                    5568\n",
       "unique     2                    5165\n",
       "top      ham  Sorry, I'll call later\n",
       "freq    4822                      30"
      ]
     },
     "execution_count": 7,
     "metadata": {},
     "output_type": "execute_result"
    }
   ],
   "source": [
    "data.describe()"
   ]
  },
  {
   "cell_type": "markdown",
   "metadata": {},
   "source": [
    "### Data Cleaning\n",
    "\n",
    "I will set the stopwords in english language because from the text, the language used is english. Setting the variable will create a list of stopwords in english language and this will be use in removing stopwords."
   ]
  },
  {
   "cell_type": "code",
   "execution_count": 8,
   "metadata": {},
   "outputs": [],
   "source": [
    "stopwords = set(stopwords.words('english'))\n",
    "wnl = WordNetLemmatizer()"
   ]
  },
  {
   "cell_type": "markdown",
   "metadata": {},
   "source": [
    "I will make a function that does all of the process of data cleaning which is word tokenizing, lemmatizing and removing stopwords and punctuation. Firstly the data that has been lowercased will be tokenized into words, then each of the words in each list in each rows in the data will be check if they exist in stopwords or punctuation. If they don't exist in neither of stopwords or punctuation, the data will be lemmatize. Lemmatizing is a way of word normalization. Two types of word normalizations are word lemmatizing and word stemming.I choose lemmatize because it will extract the exact meaning of the word, e.g running, runs and run will be only run. Stemming is extracting meaning by cutting off the extensions which could confuse the actual meaning and sometimes return meaningless word. After normalizing the words, i will join the words again into sentence. Apply the function to the feature which is data['text'] and store it in new column."
   ]
  },
  {
   "cell_type": "code",
   "execution_count": 9,
   "metadata": {},
   "outputs": [],
   "source": [
    "def process(df):\n",
    "    data = word_tokenize(df.lower())\n",
    "    data = [wnl.lemmatize(word) for word in data if word not in (stopwords|set(string.punctuation))] #if nya harus return False, in order to return false harus tambahin | plus set() kalo gapake set gabisa\n",
    "    data = \" \".join([word for word in data])\n",
    "    return data"
   ]
  },
  {
   "cell_type": "code",
   "execution_count": 10,
   "metadata": {},
   "outputs": [],
   "source": [
    "data['clean_text'] = data['text'].apply(process)"
   ]
  },
  {
   "cell_type": "code",
   "execution_count": 11,
   "metadata": {},
   "outputs": [
    {
     "data": {
      "text/plain": [
       "0    've searching right word thank breather promis...\n",
       "1    free entry 2 wkly comp win fa cup final tkts 2...\n",
       "2              nah n't think go usf life around though\n",
       "3        even brother like speak treat like aid patent\n",
       "4                                          date sunday\n",
       "5    per request 'melle melle oru minnaminunginte n...\n",
       "6    winner valued network customer selected receiv...\n",
       "7    mobile 11 month u r entitled update latest col...\n",
       "8    'm gon na home soon n't want talk stuff anymor...\n",
       "9    six chance win cash 100 20,000 pound txt csh11...\n",
       "Name: clean_text, dtype: object"
      ]
     },
     "execution_count": 11,
     "metadata": {},
     "output_type": "execute_result"
    }
   ],
   "source": [
    "data['clean_text'].head(10)"
   ]
  },
  {
   "cell_type": "markdown",
   "metadata": {},
   "source": [
    "#### Visualize Most Words Appeared with WordCloud"
   ]
  },
  {
   "cell_type": "code",
   "execution_count": 12,
   "metadata": {},
   "outputs": [
    {
     "data": {
      "text/plain": [
       "(-0.5, 399.5, 199.5, -0.5)"
      ]
     },
     "execution_count": 12,
     "metadata": {},
     "output_type": "execute_result"
    },
    {
     "data": {
      "image/png": "[encoded data removed]",
      "text/plain": [
       "<Figure size 432x288 with 1 Axes>"
      ]
     },
     "metadata": {},
     "output_type": "display_data"
    }
   ],
   "source": [
    "wordcloud = WordCloud(\n",
    "                          background_color='white',\n",
    "                          stopwords=stopwords,\n",
    "                          max_words=200,\n",
    "                          max_font_size=70, \n",
    "                          random_state=42\n",
    "                         ).generate(str(data['clean_text']))\n",
    "\n",
    "plt.imshow(wordcloud)\n",
    "plt.axis('off')"
   ]
  },
  {
   "cell_type": "markdown",
   "metadata": {},
   "source": [
    "#### Plotting Numbers of Ham vs Spam In Data\n",
    "\n",
    "The plot below shows that spam texts appears significantly less than the non spam texts"
   ]
  },
  {
   "cell_type": "code",
   "execution_count": 13,
   "metadata": {},
   "outputs": [
    {
     "data": {
      "text/plain": [
       "Text(0.5, 1.0, 'Ham vs Spam')"
      ]
     },
     "execution_count": 13,
     "metadata": {},
     "output_type": "execute_result"
    },
    {
     "data": {
      "image/png": "[encoded data removed]",
      "text/plain": [
       "<Figure size 504x504 with 1 Axes>"
      ]
     },
     "metadata": {},
     "output_type": "display_data"
    }
   ],
   "source": [
    "plt.figure(figsize=(7,7))\n",
    "sns.set(font_scale=1.3)\n",
    "plt.pie(data.groupby('label')['label'].count(),\n",
    "        autopct=lambda p: '{:.2f}%({:.0f})'.format(p,(p/100)*data['label'].count()))\n",
    "plt.legend(data['label'].unique(),loc='center right',\n",
    "            bbox_to_anchor=(1, 0, 0.2, 1))\n",
    "plt.title('Ham vs Spam')"
   ]
  },
  {
   "cell_type": "markdown",
   "metadata": {},
   "source": [
    "### Data Splitting and Vectorizing\n",
    "\n",
    "Firstly i will split the data into train and test data. I will vectorize the feature with ngram is 1,1 because above 1 in this case will result in worse performance. I will create variable X_test_remain to store the values of X_test before i vectorize the X_test, i do this so later i could see which text is spam/ham because vectorization will be manipulate the feature that it will not remain the same anymore."
   ]
  },
  {
   "cell_type": "code",
   "execution_count": 14,
   "metadata": {},
   "outputs": [],
   "source": [
    "X = np.array(data['clean_text'])\n",
    "y = np.array(data['label'])\n",
    "\n",
    "X_train, X_test, y_train, y_test = train_test_split(X, y, test_size=0.2)\n",
    "\n",
    "vectorizer = TfidfVectorizer(ngram_range=(1,1))\n",
    "\n",
    "X_train = vectorizer.fit_transform(X_train)\n",
    "X_test_remain = X_test.copy()\n",
    "X_test = vectorizer.transform(X_test)"
   ]
  },
  {
   "cell_type": "markdown",
   "metadata": {},
   "source": [
    "### Model Selection\n",
    "\n",
    "I will create a function to compare each of the algorithm performance with cross validation. Since the algorithms are naive bayes and svm, they take different parameter, naive bayes could only be fed with dense array and svm could be fed with either dense or sparse array but feeding it dense array will take a very long time so i will feed it with sparse array. What i have for now is that the X_train is in form of sparse array (checked in Spyder IDE, this kernel is only for documentation, i coded this from scratch in my Spyder IDE then move it here after it's done) which means i need to put if conditional, for if the input type is dense then i will make it into array and if it's sparse then i will just feed the X_train. For that, i create a DataFrame which stores the algorithm, algorithm name and the input type"
   ]
  },
  {
   "cell_type": "code",
   "execution_count": 15,
   "metadata": {},
   "outputs": [],
   "source": [
    "svm = svm.SVC()\n",
    "nb = naive_bayes.GaussianNB()\n",
    "\n",
    "alg = [nb,svm]\n",
    "alg_name =['Naive Bayes','Support Vector Machine']\n",
    "inputype = ['dense','sparse']\n",
    "\n",
    "algorithms = pd.DataFrame(data=list(zip(alg,alg_name,inputype)),\n",
    "                          columns=['algorithm','algorithm_name','input_type'])\n",
    "\n",
    "scoring = {'accuracy' : make_scorer(accuracy_score), \n",
    "            'precision' : make_scorer(precision_score,pos_label='spam'),\n",
    "            'recall' : make_scorer(recall_score,pos_label='spam'), \n",
    "            'f1_score' : make_scorer(f1_score,pos_label='spam')\n",
    "            }\n",
    "\n",
    "def model(X_train,y_train):\n",
    "    for i,row in algorithms.iterrows():\n",
    "        results = []\n",
    "        if algorithms['input_type'][i] == 'dense':\n",
    "            results = cross_validate(algorithms['algorithm'][i], X_train.toarray(),y_train,cv=10,scoring=scoring)\n",
    "        elif algorithms['input_type'][i] == 'sparse':\n",
    "            results = cross_validate(algorithms['algorithm'][i], X_train,y_train,cv=10,scoring=scoring)\n",
    "        results = np.mean(list(results.values()),axis=1)\n",
    "        print('{} evaluation scores'.format(algorithms['algorithm_name'][i]))\n",
    "        print('fit time : {} \\nscore time : {}\\ntest accuracy : {}\\ntest precision : {}\\ntest recall : {}\\ntest f1 score : {}\\n'.format(*results))\n"
   ]
  },
  {
   "cell_type": "markdown",
   "metadata": {},
   "source": [
    "From here we see that SVC outperforms GNB in most metrics so i will use SVM for my data"
   ]
  },
  {
   "cell_type": "code",
   "execution_count": 16,
   "metadata": {},
   "outputs": [
    {
     "name": "stdout",
     "output_type": "stream",
     "text": [
      "Naive Bayes evaluation scores\n",
      "fit time : 0.701722526550293 \n",
      "score time : 0.10039186477661133\n",
      "test accuracy : 0.8828079810550713\n",
      "test precision : 0.5326587769821323\n",
      "test recall : 0.8713617767387494\n",
      "test f1 score : 0.6609799864528659\n",
      "\n",
      "Support Vector Machine evaluation scores\n",
      "fit time : 1.53431179523468 \n",
      "score time : 0.12399287223815918\n",
      "test accuracy : 0.9735083387917569\n",
      "test precision : 0.9978260869565216\n",
      "test recall : 0.7992986557568672\n",
      "test f1 score : 0.8869247297594332\n",
      "\n"
     ]
    }
   ],
   "source": [
    "model(X_train, y_train)"
   ]
  },
  {
   "cell_type": "markdown",
   "metadata": {},
   "source": [
    "### Model Fitting"
   ]
  },
  {
   "cell_type": "code",
   "execution_count": 17,
   "metadata": {},
   "outputs": [],
   "source": [
    "svm_model = svm.fit(X_train,y_train)\n",
    "y_pred = svm_model.predict(X_test)"
   ]
  },
  {
   "cell_type": "markdown",
   "metadata": {},
   "source": [
    "### Plotting Confusion Matrix\n",
    "\n",
    "This shows how many hit and miss of our model for the data"
   ]
  },
  {
   "cell_type": "code",
   "execution_count": 18,
   "metadata": {},
   "outputs": [
    {
     "data": {
      "text/plain": [
       "Text(26.5, 0.5, 'True Label')"
      ]
     },
     "execution_count": 18,
     "metadata": {},
     "output_type": "execute_result"
    },
    {
     "data": {
      "image/png": "[encoded data removed]",
      "text/plain": [
       "<Figure size 432x288 with 2 Axes>"
      ]
     },
     "metadata": {},
     "output_type": "display_data"
    }
   ],
   "source": [
    "cm = confusion_matrix(y_test, y_pred)\n",
    "class_label = [\"ham\", \"spam\"]\n",
    "df_cm = pd.DataFrame(cm, index=class_label,columns=class_label)\n",
    "plt.figure()\n",
    "sns.heatmap(df_cm, annot=True, fmt='d')\n",
    "plt.title(\"Confusion Matrix\")\n",
    "plt.xlabel(\"Predicted Label\")\n",
    "plt.ylabel(\"True Label\")"
   ]
  },
  {
   "cell_type": "code",
   "execution_count": 19,
   "metadata": {},
   "outputs": [],
   "source": [
    "final = pd.DataFrame(data=zip(X_test_remain,y_test,y_pred),columns=['Texts','Actual Label','Predicted Label'])"
   ]
  },
  {
   "cell_type": "markdown",
   "metadata": {},
   "source": [
    "Let's see the big picture and save the result to csv"
   ]
  },
  {
   "cell_type": "code",
   "execution_count": 20,
   "metadata": {},
   "outputs": [
    {
     "data": {
      "text/html": [
       "<div>\n",
       "<style scoped>\n",
       "    .dataframe tbody tr th:only-of-type {\n",
       "        vertical-align: middle;\n",
       "    }\n",
       "\n",
       "    .dataframe tbody tr th {\n",
       "        vertical-align: top;\n",
       "    }\n",
       "\n",
       "    .dataframe thead th {\n",
       "        text-align: right;\n",
       "    }\n",
       "</style>\n",
       "<table border=\"1\" class=\"dataframe\">\n",
       "  <thead>\n",
       "    <tr style=\"text-align: right;\">\n",
       "      <th></th>\n",
       "      <th>Texts</th>\n",
       "      <th>Actual Label</th>\n",
       "      <th>Predicted Label</th>\n",
       "    </tr>\n",
       "  </thead>\n",
       "  <tbody>\n",
       "    <tr>\n",
       "      <th>0</th>\n",
       "      <td>buy space invader 4 chance 2 win orig arcade g...</td>\n",
       "      <td>spam</td>\n",
       "      <td>spam</td>\n",
       "    </tr>\n",
       "    <tr>\n",
       "      <th>1</th>\n",
       "      <td>block breaker come deluxe format new feature g...</td>\n",
       "      <td>spam</td>\n",
       "      <td>ham</td>\n",
       "    </tr>\n",
       "    <tr>\n",
       "      <th>2</th>\n",
       "      <td>lol n't know awesome phone could click delete ...</td>\n",
       "      <td>ham</td>\n",
       "      <td>ham</td>\n",
       "    </tr>\n",
       "    <tr>\n",
       "      <th>3</th>\n",
       "      <td>hi 2nights ur lucky night uve invited 2 xchat ...</td>\n",
       "      <td>spam</td>\n",
       "      <td>spam</td>\n",
       "    </tr>\n",
       "    <tr>\n",
       "      <th>4</th>\n",
       "      <td>hamster dead hey tmr meet 1pm orchard mrt</td>\n",
       "      <td>ham</td>\n",
       "      <td>ham</td>\n",
       "    </tr>\n",
       "    <tr>\n",
       "      <th>...</th>\n",
       "      <td>...</td>\n",
       "      <td>...</td>\n",
       "      <td>...</td>\n",
       "    </tr>\n",
       "    <tr>\n",
       "      <th>1109</th>\n",
       "      <td>finally match heading towards draw prediction</td>\n",
       "      <td>ham</td>\n",
       "      <td>ham</td>\n",
       "    </tr>\n",
       "    <tr>\n",
       "      <th>1110</th>\n",
       "      <td>running managed 5 minute needed oxygen might r...</td>\n",
       "      <td>ham</td>\n",
       "      <td>ham</td>\n",
       "    </tr>\n",
       "    <tr>\n",
       "      <th>1111</th>\n",
       "      <td>wow healthy old airport rd lor cant thk anythi...</td>\n",
       "      <td>ham</td>\n",
       "      <td>ham</td>\n",
       "    </tr>\n",
       "    <tr>\n",
       "      <th>1112</th>\n",
       "      <td>call say coming today ok tell fool like ok</td>\n",
       "      <td>ham</td>\n",
       "      <td>ham</td>\n",
       "    </tr>\n",
       "    <tr>\n",
       "      <th>1113</th>\n",
       "      <td>de asking like</td>\n",
       "      <td>ham</td>\n",
       "      <td>ham</td>\n",
       "    </tr>\n",
       "  </tbody>\n",
       "</table>\n",
       "<p>1114 rows × 3 columns</p>\n",
       "</div>"
      ],
      "text/plain": [
       "                                                  Texts Actual Label  \\\n",
       "0     buy space invader 4 chance 2 win orig arcade g...         spam   \n",
       "1     block breaker come deluxe format new feature g...         spam   \n",
       "2     lol n't know awesome phone could click delete ...          ham   \n",
       "3     hi 2nights ur lucky night uve invited 2 xchat ...         spam   \n",
       "4             hamster dead hey tmr meet 1pm orchard mrt          ham   \n",
       "...                                                 ...          ...   \n",
       "1109      finally match heading towards draw prediction          ham   \n",
       "1110  running managed 5 minute needed oxygen might r...          ham   \n",
       "1111  wow healthy old airport rd lor cant thk anythi...          ham   \n",
       "1112         call say coming today ok tell fool like ok          ham   \n",
       "1113                                     de asking like          ham   \n",
       "\n",
       "     Predicted Label  \n",
       "0               spam  \n",
       "1                ham  \n",
       "2                ham  \n",
       "3               spam  \n",
       "4                ham  \n",
       "...              ...  \n",
       "1109             ham  \n",
       "1110             ham  \n",
       "1111             ham  \n",
       "1112             ham  \n",
       "1113             ham  \n",
       "\n",
       "[1114 rows x 3 columns]"
      ]
     },
     "execution_count": 20,
     "metadata": {},
     "output_type": "execute_result"
    }
   ],
   "source": [
    "final"
   ]
  },
  {
   "cell_type": "code",
   "execution_count": 21,
   "metadata": {},
   "outputs": [],
   "source": [
    "final.to_csv('submission.csv',index=False)"
   ]
  },
  {
   "cell_type": "markdown",
   "metadata": {},
   "source": [
    "### Conclusion\n",
    "\n",
    "Spam filtering could be categorized for NLP because the data used is a raw data and it takes special processes to create the model. It includes tokenization, normalization, vectorization which is pretty much different than regular preprocessing. SVM in this case outperforms the NB."
   ]
  }
 ],
 "metadata": {
  "kernelspec": {
   "display_name": "Python 3",
   "language": "python",
   "name": "python3"
  },
  "language_info": {
   "codemirror_mode": {
    "name": "ipython",
    "version": 3
   },
   "file_extension": ".py",
   "mimetype": "text/x-python",
   "name": "python",
   "nbconvert_exporter": "python",
   "pygments_lexer": "ipython3",
   "version": "3.7.3"
  }
 },
 "nbformat": 4,
 "nbformat_minor": 2
}
